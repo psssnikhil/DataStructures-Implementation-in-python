{
  "nbformat": 4,
  "nbformat_minor": 0,
  "metadata": {
    "colab": {
      "name": "Stacks.ipynb",
      "provenance": [],
      "collapsed_sections": [],
      "authorship_tag": "ABX9TyNHIo6rv8yEIcYJn4tw/9mK",
      "include_colab_link": true
    },
    "kernelspec": {
      "name": "python3",
      "display_name": "Python 3"
    }
  },
  "cells": [
    {
      "cell_type": "markdown",
      "metadata": {
        "id": "view-in-github",
        "colab_type": "text"
      },
      "source": [
        "<a href=\"https://colab.research.google.com/github/psssnikhil/DataStructures-Implementation-in-python/blob/master/Stacks/Stacks.ipynb\" target=\"_parent\"><img src=\"https://colab.research.google.com/assets/colab-badge.svg\" alt=\"Open In Colab\"/></a>"
      ]
    },
    {
      "cell_type": "markdown",
      "metadata": {
        "id": "oWgyjsr4SDEh",
        "colab_type": "text"
      },
      "source": [
        "STACK IMPLEMENTAION IN PYTHON"
      ]
    },
    {
      "cell_type": "code",
      "metadata": {
        "id": "btw5syvdSCRi",
        "colab_type": "code",
        "colab": {
          "base_uri": "https://localhost:8080/",
          "height": 153
        },
        "outputId": "e5be2a6e-9d61-4998-fc61-05185237b3e6"
      },
      "source": [
        "class Stack(object):\n",
        "  #let us create a constructor\n",
        "  def __init__(self):\n",
        "    self.stack=[]\n",
        "    self.items_count=0\n",
        "\n",
        "  #case1(check if stack is empty)\n",
        "  def IsEmpty(self):\n",
        "    return self.stack == []\n",
        "\n",
        "  #Return the size of the stack\n",
        "  def Size(self):\n",
        "    return len(self.stack)\n",
        "  #Pushing an element into the stack\n",
        "  def Push(self,data):\n",
        "    self.stack.insert(self.items_count,data) \n",
        "    self.items_count+=1\n",
        "    return '{} is inserted into stack'.format(data)\n",
        "  #Popping out an elements from the stack(LIFO)\n",
        "  def Pop(self):\n",
        "    self.items_count-=1\n",
        "    data=self.stack.pop(self.items_count)\n",
        "    return '{} is removed from stack'.format(data)\n",
        "\n",
        "\n",
        "if __name__=='__main__':\n",
        "\n",
        "  stack= Stack()\n",
        "  \n",
        "  print(stack.Push(4))\n",
        "  print(stack.Push(6))\n",
        "  print(stack.Push(3))\n",
        "  print(stack.Push(10))\n",
        "  print('size of stack is ',stack.Size())\n",
        "  print(stack.Pop())\n",
        "  print(stack.Pop())\n",
        "  print('size of stack is ',stack.Size())\n",
        "\n"
      ],
      "execution_count": 23,
      "outputs": [
        {
          "output_type": "stream",
          "text": [
            "4 is inserted into stack\n",
            "6 is inserted into stack\n",
            "3 is inserted into stack\n",
            "10 is inserted into stack\n",
            "size of stack is  4\n",
            "10 is removed from stack\n",
            "3 is removed from stack\n",
            "size of stack is  2\n"
          ],
          "name": "stdout"
        }
      ]
    },
    {
      "cell_type": "code",
      "metadata": {
        "id": "rTF-xXxZUk4U",
        "colab_type": "code",
        "colab": {}
      },
      "source": [
        ""
      ],
      "execution_count": 0,
      "outputs": []
    }
  ]
}