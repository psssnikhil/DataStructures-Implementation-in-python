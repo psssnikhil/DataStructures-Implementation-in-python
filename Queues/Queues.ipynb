{
  "nbformat": 4,
  "nbformat_minor": 0,
  "metadata": {
    "colab": {
      "name": "Untitled",
      "provenance": [],
      "collapsed_sections": [],
      "authorship_tag": "ABX9TyPu9wk19KhiCXenyQ9hNa/M",
      "include_colab_link": true
    },
    "kernelspec": {
      "name": "python3",
      "display_name": "Python 3"
    }
  },
  "cells": [
    {
      "cell_type": "markdown",
      "metadata": {
        "id": "view-in-github",
        "colab_type": "text"
      },
      "source": [
        "<a href=\"https://colab.research.google.com/github/psssnikhil/DataStructures-Implementation-in-python/blob/master/Queues/Queues.ipynb\" target=\"_parent\"><img src=\"https://colab.research.google.com/assets/colab-badge.svg\" alt=\"Open In Colab\"/></a>"
      ]
    },
    {
      "cell_type": "code",
      "metadata": {
        "id": "h5UrV7wrCtMy",
        "colab_type": "code",
        "colab": {}
      },
      "source": [
        "#Queues.. idea is FIFO..check size,empty,undersize,oversize conditions and enque ,deque accordingly by setting a length of the queue initially.\n",
        "class Queue(object):\n",
        "\n",
        "  def __init__(self,length = 10):\n",
        "    self.queue=[]\n",
        "    self.first=None\n",
        "    self.last=None\n",
        "    self.length=length\n",
        "    self.size=0\n",
        "\n",
        "  def __str__(self):\n",
        "\n",
        "    return ' '.join([str(i) for i in self.queue])\n",
        "\n",
        "  def isEmpty(self):\n",
        "    return self.size<=0\n",
        "  def enqueue(self,data):\n",
        "    \n",
        "    if (self.size> self.length):\n",
        "      return 'overflow'\n",
        "    else:\n",
        "      self.queue.append(data)\n",
        "    self.size+=1\n",
        "\n",
        "  def deque(self):\n",
        "    if self.size<=0:\n",
        "      return 'empty'\n",
        "    elif self.size<=0:\n",
        "      return 'underflow'\n",
        "    else:\n",
        "      self.queue.pop(0)\n",
        "      self.size-=1\n",
        "      if self.size==0:\n",
        "        self.first=self.last=0\n",
        "      else:\n",
        "        self.rear=self.size-1\n",
        "  \n",
        "  def checksize(self):\n",
        "    return self.size\n",
        "\n",
        "\n",
        "\n",
        "\n",
        "\n",
        "    \n"
      ],
      "execution_count": 0,
      "outputs": []
    },
    {
      "cell_type": "code",
      "metadata": {
        "id": "CP25jV9jHl22",
        "colab_type": "code",
        "colab": {
          "base_uri": "https://localhost:8080/",
          "height": 102
        },
        "outputId": "94bed257-c58d-44f1-ddf1-6602b76227bb"
      },
      "source": [
        "#checkin for the outputs\n",
        "\n",
        "if__name__='__main__'\n",
        "IQueue=Queue()\n",
        "for i in range(10):\n",
        "  IQueue.enqueue(i)\n",
        "print(IQueue)\n",
        "print('size of queue is ',IQueue.checksize())\n",
        "print(IQueue.isEmpty())\n",
        "IQueue.deque()\n",
        "print(IQueue)\n",
        "print('size of queue is ',IQueue.checksize())\n",
        "\n"
      ],
      "execution_count": 47,
      "outputs": [
        {
          "output_type": "stream",
          "text": [
            "0 1 2 3 4 5 6 7 8 9\n",
            "size of queue is  10\n",
            "False\n",
            "1 2 3 4 5 6 7 8 9\n",
            "size of queue is  9\n"
          ],
          "name": "stdout"
        }
      ]
    }
  ]
}